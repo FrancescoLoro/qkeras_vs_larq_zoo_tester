{
 "cells": [
  {
   "cell_type": "code",
   "execution_count": 1,
   "metadata": {},
   "outputs": [],
   "source": [
    "# download weights from: https://github.com/larq/zoo/releases/download/binary_alexnetv0.2.0/binary_alexnet_weights.h5\n",
    "\n",
    "import qkeras as q\n",
    "import tensorflow as tf\n",
    "from tensorflow import keras\n",
    "import numpy as np\n",
    "import larq as lq\n",
    "from tqdm import tqdm"
   ]
  },
  {
   "cell_type": "code",
   "execution_count": 2,
   "metadata": {},
   "outputs": [],
   "source": [
    "path_alexnet = \"../../binary_alexnet_weights.h5\"\n",
    "# create random dataset\n",
    "test_data = np.random.randint(low=0, high=254, size=(128, 1, 224, 224, 3))"
   ]
  },
  {
   "cell_type": "code",
   "execution_count": 8,
   "metadata": {},
   "outputs": [],
   "source": [
    "def calculate_MSE(res_qkeras, res_larq):\n",
    "    qres = np.asarray(res_qkeras)\n",
    "    lres = np.asarray(res_larq)    \n",
    "    qres = np.squeeze(qres)\n",
    "    lres = np.squeeze(lres)\n",
    "    mse = []\n",
    "    for i in range(0,qres.shape[0]):\n",
    "        real = lres[i,:]\n",
    "        pred = qres[i,:]\n",
    "        mse.append(((real - pred)**2).mean())\n",
    "    return mse\n",
    "\n",
    "def calculateAbsoluteError(res_qkeras, res_larq):\n",
    "    error_counter = 0\n",
    "    for i, j in zip(res_qkeras, res_larq):\n",
    "        pred = np.argmax(np.asarray(i))\n",
    "        real = np.argmax(np.asarray(j))\n",
    "    if pred != real:\n",
    "        error_counter += 1\n",
    "    return error_counter"
   ]
  },
  {
   "cell_type": "code",
   "execution_count": 3,
   "metadata": {},
   "outputs": [],
   "source": [
    "def qkeras_conv_block(qkeras_alexNet, features, kernel_size, pool, qnt, strides=1):\n",
    "    if qnt:\n",
    "        qkeras_alexNet.add(q.QActivation(\"binary\"))\n",
    "    qkeras_alexNet.add(q.QConv2D(features, kernel_size,strides=strides, padding=\"same\", use_bias=False, kernel_quantizer=\"binary\"))\n",
    "    if pool:\n",
    "        qkeras_alexNet.add(tf.keras.layers.MaxPool2D(pool_size=3, strides=2))\n",
    "    qkeras_alexNet.add(tf.keras.layers.BatchNormalization(scale=False, momentum=0.9))\n",
    "    return qkeras_alexNet\n",
    "\n",
    "def qkeras_dense_block(qkeras_alexNet, units):\n",
    "    qkeras_alexNet.add(q.QActivation(\"binary\"))\n",
    "    qkeras_alexNet.add(q.QDense(units, kernel_quantizer=\"binary\", use_bias=False))\n",
    "    qkeras_alexNet.add(tf.keras.layers.BatchNormalization(scale=False, momentum=0.9))\n",
    "    return qkeras_alexNet\n",
    "\n",
    "def larq_conv_block(larq_alexNet, features, kernel_size, pool, qnt, strides=1):\n",
    "    larq_alexNet.add(lq.layers.QuantConv2D(features, kernel_size,strides=strides, padding=\"same\", use_bias=False, \n",
    "                                            input_quantizer=None if not qnt else \"ste_sign\",\n",
    "                                            kernel_quantizer=\"ste_sign\",\n",
    "                                            kernel_constraint=\"weight_clip\"))\n",
    "    if pool:\n",
    "        larq_alexNet.add(tf.keras.layers.MaxPool2D(pool_size=3, strides=2))\n",
    "    larq_alexNet.add(tf.keras.layers.BatchNormalization(scale=False, momentum=0.9))\n",
    "    return larq_alexNet\n",
    "\n",
    "def larq_dense_block(larq_alexNet, units):\n",
    "    larq_alexNet.add(lq.layers.QuantDense(units, use_bias=False,\n",
    "                                        input_quantizer=\"ste_sign\",\n",
    "                                        kernel_quantizer=\"ste_sign\",\n",
    "                                        kernel_constraint=\"weight_clip\"))\n",
    "    larq_alexNet.add(tf.keras.layers.BatchNormalization(scale=False, momentum=0.9))\n",
    "    return larq_alexNet\n"
   ]
  },
  {
   "cell_type": "code",
   "execution_count": 4,
   "metadata": {},
   "outputs": [],
   "source": [
    "qkeras_alexNet = tf.keras.models.Sequential() \n",
    "qkeras_alexNet.add(tf.keras.layers.InputLayer(input_shape=(224, 224, 3)))\n",
    "qkeras_conv_block(qkeras_alexNet, features=64, kernel_size=11, strides=4, pool=True, qnt=False)\n",
    "qkeras_conv_block(qkeras_alexNet, features=192, kernel_size=5, pool=True, qnt=True)\n",
    "qkeras_conv_block(qkeras_alexNet, features=384, kernel_size=3, pool=False, qnt=True)\n",
    "qkeras_conv_block(qkeras_alexNet, features=384, kernel_size=3, pool=False, qnt=True)\n",
    "qkeras_conv_block(qkeras_alexNet, features=256, kernel_size=3, pool=True, qnt=True)\n",
    "\n",
    "qkeras_alexNet.add(tf.keras.layers.Flatten())\n",
    "\n",
    "qkeras_dense_block(qkeras_alexNet, units=4096)\n",
    "qkeras_dense_block(qkeras_alexNet, units=4096)\n",
    "qkeras_dense_block(qkeras_alexNet, units=1000)\n",
    "\n",
    "qkeras_alexNet.add(tf.keras.layers.Activation(\"softmax\", dtype=\"float32\"))"
   ]
  },
  {
   "cell_type": "code",
   "execution_count": 5,
   "metadata": {},
   "outputs": [],
   "source": [
    "larq_alexNet = tf.keras.models.Sequential() \n",
    "larq_alexNet.add(tf.keras.layers.InputLayer(input_shape=(224, 224, 3)))\n",
    "larq_conv_block(larq_alexNet, features=64, kernel_size=11, strides=4, pool=True, qnt=False)\n",
    "larq_conv_block(larq_alexNet, features=192, kernel_size=5, pool=True, qnt=True)\n",
    "larq_conv_block(larq_alexNet, features=384, kernel_size=3, pool=False, qnt=True)\n",
    "larq_conv_block(larq_alexNet, features=384, kernel_size=3, pool=False, qnt=True)\n",
    "larq_conv_block(larq_alexNet, features=256, kernel_size=3, pool=True, qnt=True)\n",
    "\n",
    "larq_alexNet.add(tf.keras.layers.Flatten())\n",
    "\n",
    "larq_dense_block(larq_alexNet, units=4096)\n",
    "larq_dense_block(larq_alexNet, units=4096)\n",
    "larq_dense_block(larq_alexNet, units=1000)\n",
    "\n",
    "larq_alexNet.add(tf.keras.layers.Activation(\"softmax\", dtype=\"float32\"))"
   ]
  },
  {
   "cell_type": "code",
   "execution_count": 7,
   "metadata": {},
   "outputs": [],
   "source": [
    "qkeras_alexNet.load_weights(path_alexnet)\n",
    "larq_alexNet.load_weights(path_alexnet)"
   ]
  },
  {
   "cell_type": "code",
   "execution_count": null,
   "metadata": {},
   "outputs": [
    {
     "name": "stderr",
     "output_type": "stream",
     "text": [
      " 18%|█▊        | 18/100 [00:14<01:06,  1.24it/s]"
     ]
    }
   ],
   "source": [
    "res_qkeras = []\n",
    "res_larq = []\n",
    "\n",
    "sample_num = 100\n",
    "\n",
    "for i in tqdm(range(0,sample_num)):\n",
    "    res_qkeras.append(qkeras_alexNet.predict(test_data[i,:,:,:]))\n",
    "    res_larq.append(larq_alexNet.predict(test_data[i,:,:,:]))   \n",
    "mse = calculate_MSE(res_qkeras, res_larq)\n",
    "print(\"\\n\\nMSE for quicknet -> \", np.asarray(mse).mean())\n",
    "print(\"Absolute errors for quicknet -> \", calculateAbsoluteError(res_qkeras, res_larq))"
   ]
  },
  {
   "cell_type": "code",
   "execution_count": null,
   "metadata": {},
   "outputs": [],
   "source": []
  }
 ],
 "metadata": {
  "kernelspec": {
   "display_name": "Python 3",
   "language": "python",
   "name": "python3"
  },
  "language_info": {
   "codemirror_mode": {
    "name": "ipython",
    "version": 3
   },
   "file_extension": ".py",
   "mimetype": "text/x-python",
   "name": "python",
   "nbconvert_exporter": "python",
   "pygments_lexer": "ipython3",
   "version": "3.7.4"
  }
 },
 "nbformat": 4,
 "nbformat_minor": 2
}
